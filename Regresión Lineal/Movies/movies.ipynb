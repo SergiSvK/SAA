{
 "cells": [
  {
   "cell_type": "code",
   "execution_count": 33,
   "metadata": {
    "collapsed": true
   },
   "outputs": [],
   "source": [
    "import pandas as pd\n",
    "\n",
    "from sklearn import linear_model\n",
    "import  matplotlib.pyplot as plt"
   ]
  },
  {
   "cell_type": "code",
   "execution_count": 34,
   "outputs": [
    {
     "name": "stdout",
     "output_type": "stream",
     "text": [
      "                              franquicia  presupuesto  genero  \\\n",
      "0         Father of the Bride Collection          NaN  Comedy   \n",
      "1                                    NaN          NaN   Drama   \n",
      "2                      Friday Collection    3500000.0  Comedy   \n",
      "3                                    NaN          NaN  Comedy   \n",
      "4                                    NaN   12000000.0  Comedy   \n",
      "...                                  ...          ...     ...   \n",
      "1344     The Ouija Experiment Collection          NaN  Horror   \n",
      "1345                                 NaN          NaN     NaN   \n",
      "1346                                 NaN          NaN     NaN   \n",
      "1347  Texas Chainsaw Massacre Collection          NaN  Horror   \n",
      "1348                                 NaN          NaN     NaN   \n",
      "\n",
      "                                         pagina_web    imdb_id lenguaje  \\\n",
      "0                                               NaN  tt0113041       en   \n",
      "1                                               NaN  tt0112749       en   \n",
      "2     http://www.newline.com/properties/friday.html  tt0113118       en   \n",
      "3                                               NaN  tt0115697       en   \n",
      "4                                               NaN  tt0116483       en   \n",
      "...                                             ...        ...      ...   \n",
      "1344                                            NaN  tt3727824       en   \n",
      "1345                                            NaN  tt0130355       en   \n",
      "1346                                            NaN  tt1337446       en   \n",
      "1347                                            NaN  tt2620590       en   \n",
      "1348                                            NaN  tt1408062       it   \n",
      "\n",
      "      popularidad             productores                      pais  \\\n",
      "0        8.387519   Sandollar Productions  United States of America   \n",
      "1        0.894647                 Miramax              South Africa   \n",
      "2       14.569650         New Line Cinema  United States of America   \n",
      "3        8.963037      Paramount Pictures  United States of America   \n",
      "4        9.592265      Universal Pictures  United States of America   \n",
      "...           ...                     ...                       ...   \n",
      "1344     1.642247   La Luna Entertainment  United States of America   \n",
      "1345     0.352816                     NaN                       NaN   \n",
      "1346     0.110588                     NaN                       NaN   \n",
      "1347     9.742082  Campbell Grobman Films  United States of America   \n",
      "1348     0.121946                     NaN                     Italy   \n",
      "\n",
      "     fecha_estreno      ventas  duracion    estado  \\\n",
      "0       1995-02-10  76578911.0     106.0  Released   \n",
      "1       1995-12-15    676525.0     106.0  Released   \n",
      "2       1995-04-26  28215918.0      91.0  Released   \n",
      "3       1996-02-01        32.0      87.0  Released   \n",
      "4       1996-02-16  41205099.0      92.0  Released   \n",
      "...            ...         ...       ...       ...   \n",
      "1344    2015-01-13         NaN      86.0  Released   \n",
      "1345    1937-01-01         NaN      11.0  Released   \n",
      "1346    2009-04-21         NaN      86.0  Released   \n",
      "1347    2017-09-14         NaN      90.0  Released   \n",
      "1348    2010-01-01         NaN       0.0  Released   \n",
      "\n",
      "                                        titulo  puntuacion  n_votos  \n",
      "0                  Father of the Bride Part II         5.7    173.0  \n",
      "1                     Cry, the Beloved Country         6.7     13.0  \n",
      "2                                       Friday         7.0    513.0  \n",
      "3                                  Black Sheep         6.0    124.0  \n",
      "4                                Happy Gilmore         6.5    767.0  \n",
      "...                                        ...         ...      ...  \n",
      "1344  The Ouija Experiment 2: Theatre of Death         3.0     25.0  \n",
      "1345                         Voyage to the Sky         5.5      2.0  \n",
      "1346                       The Anatomy of Hate         5.7      3.0  \n",
      "1347                               Leatherface         5.7     62.0  \n",
      "1348              The Father and the Foreigner         6.0      1.0  \n",
      "\n",
      "[1349 rows x 16 columns]\n"
     ]
    }
   ],
   "source": [
    "df = pd.read_csv(\"data/movies.csv\")\n",
    "print(df)"
   ],
   "metadata": {
    "collapsed": false
   }
  },
  {
   "cell_type": "markdown",
   "source": [],
   "metadata": {
    "collapsed": false
   }
  },
  {
   "cell_type": "code",
   "execution_count": 47,
   "outputs": [
    {
     "name": "stdout",
     "output_type": "stream",
     "text": [
      "Index(['presupuesto', 'popularidad', 'ventas', 'duracion', 'puntuacion',\n",
      "       'n_votos', 'ventas_pred'],\n",
      "      dtype='object')\n"
     ]
    }
   ],
   "source": [
    "print(df.columns)"
   ],
   "metadata": {
    "collapsed": false
   }
  },
  {
   "cell_type": "markdown",
   "source": [
    "presupuesto - dinero inicial para realizar la producción de tipo float\n",
    "popularidad - veces que se ha hablado de la pelicula, tipo float\n",
    "ventas - dinero que ha generado\n",
    "duracion - tiempo de la película\n",
    "puntuacion - valoranción de los usuarios\n",
    "n_votos - personas que han votado\n",
    "ventas_pred - predicciónes de ventas"
   ],
   "metadata": {
    "collapsed": false
   }
  },
  {
   "cell_type": "code",
   "execution_count": 35,
   "outputs": [
    {
     "data": {
      "text/plain": "      presupuesto  popularidad      ventas  duracion  puntuacion  n_votos\n0             NaN     8.387519  76578911.0     106.0         5.7    173.0\n1             NaN     0.894647    676525.0     106.0         6.7     13.0\n2       3500000.0    14.569650  28215918.0      91.0         7.0    513.0\n3             NaN     8.963037        32.0      87.0         6.0    124.0\n4      12000000.0     9.592265  41205099.0      92.0         6.5    767.0\n...           ...          ...         ...       ...         ...      ...\n1344          NaN     1.642247         NaN      86.0         3.0     25.0\n1345          NaN     0.352816         NaN      11.0         5.5      2.0\n1346          NaN     0.110588         NaN      86.0         5.7      3.0\n1347          NaN     9.742082         NaN      90.0         5.7     62.0\n1348          NaN     0.121946         NaN       0.0         6.0      1.0\n\n[1349 rows x 6 columns]",
      "text/html": "<div>\n<style scoped>\n    .dataframe tbody tr th:only-of-type {\n        vertical-align: middle;\n    }\n\n    .dataframe tbody tr th {\n        vertical-align: top;\n    }\n\n    .dataframe thead th {\n        text-align: right;\n    }\n</style>\n<table border=\"1\" class=\"dataframe\">\n  <thead>\n    <tr style=\"text-align: right;\">\n      <th></th>\n      <th>presupuesto</th>\n      <th>popularidad</th>\n      <th>ventas</th>\n      <th>duracion</th>\n      <th>puntuacion</th>\n      <th>n_votos</th>\n    </tr>\n  </thead>\n  <tbody>\n    <tr>\n      <th>0</th>\n      <td>NaN</td>\n      <td>8.387519</td>\n      <td>76578911.0</td>\n      <td>106.0</td>\n      <td>5.7</td>\n      <td>173.0</td>\n    </tr>\n    <tr>\n      <th>1</th>\n      <td>NaN</td>\n      <td>0.894647</td>\n      <td>676525.0</td>\n      <td>106.0</td>\n      <td>6.7</td>\n      <td>13.0</td>\n    </tr>\n    <tr>\n      <th>2</th>\n      <td>3500000.0</td>\n      <td>14.569650</td>\n      <td>28215918.0</td>\n      <td>91.0</td>\n      <td>7.0</td>\n      <td>513.0</td>\n    </tr>\n    <tr>\n      <th>3</th>\n      <td>NaN</td>\n      <td>8.963037</td>\n      <td>32.0</td>\n      <td>87.0</td>\n      <td>6.0</td>\n      <td>124.0</td>\n    </tr>\n    <tr>\n      <th>4</th>\n      <td>12000000.0</td>\n      <td>9.592265</td>\n      <td>41205099.0</td>\n      <td>92.0</td>\n      <td>6.5</td>\n      <td>767.0</td>\n    </tr>\n    <tr>\n      <th>...</th>\n      <td>...</td>\n      <td>...</td>\n      <td>...</td>\n      <td>...</td>\n      <td>...</td>\n      <td>...</td>\n    </tr>\n    <tr>\n      <th>1344</th>\n      <td>NaN</td>\n      <td>1.642247</td>\n      <td>NaN</td>\n      <td>86.0</td>\n      <td>3.0</td>\n      <td>25.0</td>\n    </tr>\n    <tr>\n      <th>1345</th>\n      <td>NaN</td>\n      <td>0.352816</td>\n      <td>NaN</td>\n      <td>11.0</td>\n      <td>5.5</td>\n      <td>2.0</td>\n    </tr>\n    <tr>\n      <th>1346</th>\n      <td>NaN</td>\n      <td>0.110588</td>\n      <td>NaN</td>\n      <td>86.0</td>\n      <td>5.7</td>\n      <td>3.0</td>\n    </tr>\n    <tr>\n      <th>1347</th>\n      <td>NaN</td>\n      <td>9.742082</td>\n      <td>NaN</td>\n      <td>90.0</td>\n      <td>5.7</td>\n      <td>62.0</td>\n    </tr>\n    <tr>\n      <th>1348</th>\n      <td>NaN</td>\n      <td>0.121946</td>\n      <td>NaN</td>\n      <td>0.0</td>\n      <td>6.0</td>\n      <td>1.0</td>\n    </tr>\n  </tbody>\n</table>\n<p>1349 rows × 6 columns</p>\n</div>"
     },
     "execution_count": 35,
     "metadata": {},
     "output_type": "execute_result"
    }
   ],
   "source": [
    "df = df.select_dtypes(include=['float64', 'int64'])\n",
    "df"
   ],
   "metadata": {
    "collapsed": false
   }
  },
  {
   "cell_type": "code",
   "execution_count": 36,
   "outputs": [
    {
     "name": "stdout",
     "output_type": "stream",
     "text": [
      "presupuesto    591\n",
      "popularidad      0\n",
      "ventas         141\n",
      "duracion         8\n",
      "puntuacion       0\n",
      "n_votos          0\n",
      "dtype: int64\n"
     ]
    }
   ],
   "source": [
    "print(df.isnull().sum())"
   ],
   "metadata": {
    "collapsed": false
   }
  },
  {
   "cell_type": "code",
   "execution_count": 37,
   "outputs": [
    {
     "data": {
      "text/plain": "      presupuesto  popularidad      ventas  duracion  puntuacion  n_votos\n0             0.0     8.387519  76578911.0     106.0         5.7    173.0\n1             0.0     0.894647    676525.0     106.0         6.7     13.0\n2       3500000.0    14.569650  28215918.0      91.0         7.0    513.0\n3             0.0     8.963037        32.0      87.0         6.0    124.0\n4      12000000.0     9.592265  41205099.0      92.0         6.5    767.0\n...           ...          ...         ...       ...         ...      ...\n1344          0.0     1.642247         0.0      86.0         3.0     25.0\n1345          0.0     0.352816         0.0      11.0         5.5      2.0\n1346          0.0     0.110588         0.0      86.0         5.7      3.0\n1347          0.0     9.742082         0.0      90.0         5.7     62.0\n1348          0.0     0.121946         0.0       0.0         6.0      1.0\n\n[1349 rows x 6 columns]",
      "text/html": "<div>\n<style scoped>\n    .dataframe tbody tr th:only-of-type {\n        vertical-align: middle;\n    }\n\n    .dataframe tbody tr th {\n        vertical-align: top;\n    }\n\n    .dataframe thead th {\n        text-align: right;\n    }\n</style>\n<table border=\"1\" class=\"dataframe\">\n  <thead>\n    <tr style=\"text-align: right;\">\n      <th></th>\n      <th>presupuesto</th>\n      <th>popularidad</th>\n      <th>ventas</th>\n      <th>duracion</th>\n      <th>puntuacion</th>\n      <th>n_votos</th>\n    </tr>\n  </thead>\n  <tbody>\n    <tr>\n      <th>0</th>\n      <td>0.0</td>\n      <td>8.387519</td>\n      <td>76578911.0</td>\n      <td>106.0</td>\n      <td>5.7</td>\n      <td>173.0</td>\n    </tr>\n    <tr>\n      <th>1</th>\n      <td>0.0</td>\n      <td>0.894647</td>\n      <td>676525.0</td>\n      <td>106.0</td>\n      <td>6.7</td>\n      <td>13.0</td>\n    </tr>\n    <tr>\n      <th>2</th>\n      <td>3500000.0</td>\n      <td>14.569650</td>\n      <td>28215918.0</td>\n      <td>91.0</td>\n      <td>7.0</td>\n      <td>513.0</td>\n    </tr>\n    <tr>\n      <th>3</th>\n      <td>0.0</td>\n      <td>8.963037</td>\n      <td>32.0</td>\n      <td>87.0</td>\n      <td>6.0</td>\n      <td>124.0</td>\n    </tr>\n    <tr>\n      <th>4</th>\n      <td>12000000.0</td>\n      <td>9.592265</td>\n      <td>41205099.0</td>\n      <td>92.0</td>\n      <td>6.5</td>\n      <td>767.0</td>\n    </tr>\n    <tr>\n      <th>...</th>\n      <td>...</td>\n      <td>...</td>\n      <td>...</td>\n      <td>...</td>\n      <td>...</td>\n      <td>...</td>\n    </tr>\n    <tr>\n      <th>1344</th>\n      <td>0.0</td>\n      <td>1.642247</td>\n      <td>0.0</td>\n      <td>86.0</td>\n      <td>3.0</td>\n      <td>25.0</td>\n    </tr>\n    <tr>\n      <th>1345</th>\n      <td>0.0</td>\n      <td>0.352816</td>\n      <td>0.0</td>\n      <td>11.0</td>\n      <td>5.5</td>\n      <td>2.0</td>\n    </tr>\n    <tr>\n      <th>1346</th>\n      <td>0.0</td>\n      <td>0.110588</td>\n      <td>0.0</td>\n      <td>86.0</td>\n      <td>5.7</td>\n      <td>3.0</td>\n    </tr>\n    <tr>\n      <th>1347</th>\n      <td>0.0</td>\n      <td>9.742082</td>\n      <td>0.0</td>\n      <td>90.0</td>\n      <td>5.7</td>\n      <td>62.0</td>\n    </tr>\n    <tr>\n      <th>1348</th>\n      <td>0.0</td>\n      <td>0.121946</td>\n      <td>0.0</td>\n      <td>0.0</td>\n      <td>6.0</td>\n      <td>1.0</td>\n    </tr>\n  </tbody>\n</table>\n<p>1349 rows × 6 columns</p>\n</div>"
     },
     "execution_count": 37,
     "metadata": {},
     "output_type": "execute_result"
    }
   ],
   "source": [
    "df = df.select_dtypes(include=['float64', 'int64']).fillna(0)\n",
    "df"
   ],
   "metadata": {
    "collapsed": false
   }
  },
  {
   "cell_type": "code",
   "execution_count": 38,
   "outputs": [],
   "source": [
    "reg = linear_model.LinearRegression()"
   ],
   "metadata": {
    "collapsed": false
   }
  },
  {
   "cell_type": "code",
   "execution_count": 39,
   "outputs": [
    {
     "data": {
      "text/plain": "LinearRegression()"
     },
     "execution_count": 39,
     "metadata": {},
     "output_type": "execute_result"
    }
   ],
   "source": [
    "reg.fit(df.drop(\"ventas\", axis=\"columns\"), df.ventas)"
   ],
   "metadata": {
    "collapsed": false
   }
  },
  {
   "cell_type": "code",
   "execution_count": 40,
   "outputs": [
    {
     "name": "stdout",
     "output_type": "stream",
     "text": [
      "Intercept -3795284.455620259\n",
      "coef [ 1.22671818e+00 -2.86498152e+05  4.72544841e+04  5.48802981e+05\n",
      "  6.68634838e+04]\n"
     ]
    }
   ],
   "source": [
    "print(\"Intercept\",reg.intercept_)\n",
    "print(\"coef\",reg.coef_)"
   ],
   "metadata": {
    "collapsed": false
   }
  },
  {
   "cell_type": "code",
   "execution_count": 41,
   "outputs": [],
   "source": [
    "df[\"ventas_pred\"] = reg.predict(df.drop(\"ventas\", axis=\"columns\"))"
   ],
   "metadata": {
    "collapsed": false
   }
  },
  {
   "cell_type": "code",
   "execution_count": 42,
   "outputs": [
    {
     "name": "stdout",
     "output_type": "stream",
     "text": [
      "          ventas   ventas_pred\n",
      "0     76578911.0  1.350624e+07\n",
      "1       676525.0  5.503581e+06\n",
      "2     28215918.0  3.876680e+07\n",
      "3           32.0  9.331852e+06\n",
      "4     41205099.0  6.737609e+07\n",
      "...          ...           ...\n",
      "1344         0.0  3.116096e+06\n",
      "1345         0.0 -2.244229e+05\n",
      "1346         0.0  3.565685e+06\n",
      "1347         0.0  4.940244e+06\n",
      "1348         0.0 -4.705404e+05\n",
      "\n",
      "[1349 rows x 2 columns]\n"
     ]
    }
   ],
   "source": [
    "# Comparar las ventas reales\n",
    "print(df[[\"ventas\", \"ventas_pred\"]])"
   ],
   "metadata": {
    "collapsed": false
   }
  },
  {
   "cell_type": "code",
   "execution_count": 43,
   "outputs": [
    {
     "data": {
      "text/plain": "<Figure size 432x288 with 1 Axes>",
      "image/png": "[encoded data removed]"
     },
     "metadata": {
      "needs_background": "light"
     },
     "output_type": "display_data"
    }
   ],
   "source": [
    "plt.scatter(df.ventas, df.ventas_pred)\n",
    "plt.xlabel(\"ventas\")\n",
    "plt.ylabel(\"ventas_pred\")\n",
    "plt.show()"
   ],
   "metadata": {
    "collapsed": false
   }
  },
  {
   "cell_type": "code",
   "execution_count": 46,
   "outputs": [],
   "source": [
    "df.to_csv(\"data/movies_pred.csv\", index=False)"
   ],
   "metadata": {
    "collapsed": false
   }
  }
 ],
 "metadata": {
  "kernelspec": {
   "display_name": "Python 3",
   "language": "python",
   "name": "python3"
  },
  "language_info": {
   "codemirror_mode": {
    "name": "ipython",
    "version": 2
   },
   "file_extension": ".py",
   "mimetype": "text/x-python",
   "name": "python",
   "nbconvert_exporter": "python",
   "pygments_lexer": "ipython2",
   "version": "2.7.6"
  }
 },
 "nbformat": 4,
 "nbformat_minor": 0
}
