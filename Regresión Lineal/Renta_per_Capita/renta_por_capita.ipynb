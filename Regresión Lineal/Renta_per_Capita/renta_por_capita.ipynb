{
 "cells": [
  {
   "cell_type": "code",
   "execution_count": 67,
   "metadata": {
    "collapsed": true
   },
   "outputs": [],
   "source": [
    "import pandas as pd\n",
    "\n",
    "from sklearn import linear_model\n",
    "import  matplotlib.pyplot as plt"
   ]
  },
  {
   "cell_type": "code",
   "execution_count": 68,
   "outputs": [
    {
     "name": "stdout",
     "output_type": "stream",
     "text": [
      "    year         renta\n",
      "0   1970   3399.299037\n",
      "1   1971   3768.297935\n",
      "2   1972   4251.175484\n",
      "3   1973   4804.463248\n",
      "4   1974   5576.514583\n",
      "5   1975   5998.144346\n",
      "6   1976   7062.131392\n",
      "7   1977   7100.126170\n",
      "8   1978   7247.967035\n",
      "9   1979   7602.912681\n",
      "10  1980   8355.968120\n",
      "11  1981   9434.390652\n",
      "12  1982   9619.438377\n",
      "13  1983  10416.536590\n",
      "14  1984  10790.328720\n",
      "15  1985  11018.955850\n",
      "16  1986  11482.891530\n",
      "17  1987  12974.806620\n",
      "18  1988  15080.283450\n",
      "19  1989  16426.725480\n",
      "20  1990  16838.673200\n",
      "21  1991  17266.097690\n",
      "22  1992  16412.083090\n",
      "23  1993  15875.586730\n",
      "24  1994  15755.820270\n",
      "25  1995  16369.317250\n",
      "26  1996  16699.826680\n",
      "27  1997  17310.757750\n",
      "28  1998  16622.671870\n",
      "29  1999  17581.024140\n",
      "30  2000  18987.382410\n",
      "31  2001  18601.397240\n",
      "32  2002  19232.175560\n",
      "33  2003  22739.426280\n",
      "34  2004  25719.147150\n",
      "35  2005  29198.055690\n",
      "36  2006  32738.262900\n",
      "37  2007  36144.481220\n",
      "38  2008  37446.486090\n",
      "39  2009  32755.176820\n",
      "40  2010  38420.522890\n",
      "41  2011  42334.711210\n",
      "42  2012  42665.255970\n",
      "43  2013  42676.468370\n",
      "44  2014  41039.893600\n",
      "45  2015  35175.188980\n",
      "46  2016  34229.193630\n"
     ]
    }
   ],
   "source": [
    "df = pd.read_csv(\"renta_per_capita.csv\", encoding=\"UTF-8\")\n",
    "print(df)"
   ],
   "metadata": {
    "collapsed": false
   }
  },
  {
   "cell_type": "code",
   "execution_count": 69,
   "outputs": [
    {
     "data": {
      "text/plain": "<Figure size 432x288 with 1 Axes>",
      "image/png": "[encoded data removed]"
     },
     "metadata": {
      "needs_background": "light"
     },
     "output_type": "display_data"
    }
   ],
   "source": [
    "%matplotlib inline\n",
    "plt.xlabel(\"Año\")\n",
    "plt.ylabel(\"US$\")\n",
    "plt.scatter(df.year, df.renta, color=\"red\", marker=\"+\")\n",
    "plt.show()"
   ],
   "metadata": {
    "collapsed": false
   }
  },
  {
   "cell_type": "code",
   "execution_count": 70,
   "outputs": [
    {
     "data": {
      "text/plain": "LinearRegression()"
     },
     "execution_count": 70,
     "metadata": {},
     "output_type": "execute_result"
    }
   ],
   "source": [
    "reg = linear_model.LinearRegression()\n",
    "reg.fit(df[[\"year\"]], df.renta)"
   ],
   "metadata": {
    "collapsed": false
   }
  },
  {
   "cell_type": "markdown",
   "source": [],
   "metadata": {
    "collapsed": false
   }
  },
  {
   "cell_type": "code",
   "execution_count": 71,
   "outputs": [],
   "source": [
    "df[\"prediccion\"] = reg.predict(df[[\"year\"]])"
   ],
   "metadata": {
    "collapsed": false
   }
  },
  {
   "cell_type": "code",
   "execution_count": 72,
   "outputs": [
    {
     "name": "stdout",
     "output_type": "stream",
     "text": [
      "   year\n",
      "0  2017\n",
      "1  2018\n",
      "2  2019\n",
      "3  2020\n",
      "4  2021\n",
      "5  2022\n"
     ]
    }
   ],
   "source": [
    "df2 = pd.DataFrame({\"year\": [2017,2018,2019,2020, 2021, 2022]})\n",
    "print(df2)"
   ],
   "metadata": {
    "collapsed": false
   }
  },
  {
   "cell_type": "code",
   "execution_count": 73,
   "outputs": [
    {
     "name": "stdout",
     "output_type": "stream",
     "text": [
      "2017\n",
      "2022\n"
     ]
    }
   ],
   "source": [
    "from datetime import datetime\n",
    "primer_anyo = df.year.tail(1).values[0] + 1\n",
    "print(primer_anyo)\n",
    "anyo_actual = anyo_actual = datetime.now().year\n",
    "print(anyo_actual)\n",
    "anyo_extras = 2"
   ],
   "metadata": {
    "collapsed": false
   }
  },
  {
   "cell_type": "code",
   "execution_count": 74,
   "outputs": [
    {
     "name": "stdout",
     "output_type": "stream",
     "text": [
      "   year\n",
      "0  2017\n",
      "1  2018\n",
      "2  2019\n",
      "3  2020\n",
      "4  2021\n",
      "5  2022\n",
      "6  2023\n"
     ]
    }
   ],
   "source": [
    "anyos_a_predecir = pd.DataFrame({\"year\": range(primer_anyo, anyo_actual + anyo_extras)})\n",
    "print(anyos_a_predecir)"
   ],
   "metadata": {
    "collapsed": false
   }
  },
  {
   "cell_type": "code",
   "execution_count": 75,
   "outputs": [
    {
     "data": {
      "text/plain": "array([38803.29886875, 39631.76394397, 40460.22901919, 41288.69409442,\n       42117.15916964, 42945.62424486, 43774.08932009])"
     },
     "execution_count": 75,
     "metadata": {},
     "output_type": "execute_result"
    }
   ],
   "source": [
    "# predecimos la renta para los años que hemos creado\n",
    "p = reg.predict(anyos_a_predecir)\n",
    "\n",
    "p"
   ],
   "metadata": {
    "collapsed": false
   }
  },
  {
   "cell_type": "code",
   "execution_count": 78,
   "outputs": [
    {
     "data": {
      "text/plain": "   year         renta\n0  2017  38803.298869\n1  2018  39631.763944\n2  2019  40460.229019\n3  2020  41288.694094\n4  2021  42117.159170\n5  2022  42945.624245\n6  2023  43774.089320",
      "text/html": "<div>\n<style scoped>\n    .dataframe tbody tr th:only-of-type {\n        vertical-align: middle;\n    }\n\n    .dataframe tbody tr th {\n        vertical-align: top;\n    }\n\n    .dataframe thead th {\n        text-align: right;\n    }\n</style>\n<table border=\"1\" class=\"dataframe\">\n  <thead>\n    <tr style=\"text-align: right;\">\n      <th></th>\n      <th>year</th>\n      <th>renta</th>\n    </tr>\n  </thead>\n  <tbody>\n    <tr>\n      <th>0</th>\n      <td>2017</td>\n      <td>38803.298869</td>\n    </tr>\n    <tr>\n      <th>1</th>\n      <td>2018</td>\n      <td>39631.763944</td>\n    </tr>\n    <tr>\n      <th>2</th>\n      <td>2019</td>\n      <td>40460.229019</td>\n    </tr>\n    <tr>\n      <th>3</th>\n      <td>2020</td>\n      <td>41288.694094</td>\n    </tr>\n    <tr>\n      <th>4</th>\n      <td>2021</td>\n      <td>42117.159170</td>\n    </tr>\n    <tr>\n      <th>5</th>\n      <td>2022</td>\n      <td>42945.624245</td>\n    </tr>\n    <tr>\n      <th>6</th>\n      <td>2023</td>\n      <td>43774.089320</td>\n    </tr>\n  </tbody>\n</table>\n</div>"
     },
     "execution_count": 78,
     "metadata": {},
     "output_type": "execute_result"
    }
   ],
   "source": [
    "anyos_a_predecir[\"renta\"]= p\n",
    "anyos_a_predecir"
   ],
   "metadata": {
    "collapsed": false
   }
  },
  {
   "cell_type": "code",
   "execution_count": 82,
   "outputs": [],
   "source": [
    "df3 = pd.concat([df,anyos_a_predecir])"
   ],
   "metadata": {
    "collapsed": false
   }
  },
  {
   "cell_type": "code",
   "execution_count": 84,
   "outputs": [
    {
     "data": {
      "text/plain": "<matplotlib.collections.PathCollection at 0x2b33cbe6100>"
     },
     "execution_count": 84,
     "metadata": {},
     "output_type": "execute_result"
    },
    {
     "data": {
      "text/plain": "<Figure size 432x288 with 1 Axes>",
      "image/png": "[encoded data removed]"
     },
     "metadata": {
      "needs_background": "light"
     },
     "output_type": "display_data"
    }
   ],
   "source": [
    "plt.xlabel(\"Año\")\n",
    "plt.ylabel(\"US$\")\n",
    "plt.scatter(df3.year, df3.renta, color=\"red\", marker=\"+\")\n"
   ],
   "metadata": {
    "collapsed": false
   }
  },
  {
   "cell_type": "code",
   "execution_count": null,
   "outputs": [],
   "source": [],
   "metadata": {
    "collapsed": false
   }
  }
 ],
 "metadata": {
  "kernelspec": {
   "display_name": "Python 3",
   "language": "python",
   "name": "python3"
  },
  "language_info": {
   "codemirror_mode": {
    "name": "ipython",
    "version": 2
   },
   "file_extension": ".py",
   "mimetype": "text/x-python",
   "name": "python",
   "nbconvert_exporter": "python",
   "pygments_lexer": "ipython2",
   "version": "2.7.6"
  }
 },
 "nbformat": 4,
 "nbformat_minor": 0
}
