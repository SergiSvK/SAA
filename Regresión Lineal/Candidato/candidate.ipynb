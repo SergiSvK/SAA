{
 "cells": [
  {
   "cell_type": "code",
   "execution_count": 43,
   "outputs": [
    {
     "name": "stdout",
     "output_type": "stream",
     "text": [
      "Requirement already satisfied: word2number in c:\\users\\sergi\\anaconda3\\lib\\site-packages (1.1)\n"
     ]
    }
   ],
   "source": [
    "!pip install word2number"
   ],
   "metadata": {
    "collapsed": false
   }
  },
  {
   "cell_type": "code",
   "execution_count": 44,
   "metadata": {
    "collapsed": true
   },
   "outputs": [],
   "source": [
    "import pandas as pd\n",
    "\n",
    "from sklearn import linear_model\n",
    "from word2number import w2n"
   ]
  },
  {
   "cell_type": "code",
   "execution_count": 45,
   "outputs": [
    {
     "data": {
      "text/plain": "  experience  test_score  interview  salary\n0        NaN         8.0          9   50000\n1        NaN         8.0          6   45000\n2       five         6.0          7   60000\n3       two         10.0         10   65000\n4      seven         9.0          6   70000\n5      three         7.0         10   62000\n6        ten         NaN          7   72000\n7     eleven         7.0          8   80000",
      "text/html": "<div>\n<style scoped>\n    .dataframe tbody tr th:only-of-type {\n        vertical-align: middle;\n    }\n\n    .dataframe tbody tr th {\n        vertical-align: top;\n    }\n\n    .dataframe thead th {\n        text-align: right;\n    }\n</style>\n<table border=\"1\" class=\"dataframe\">\n  <thead>\n    <tr style=\"text-align: right;\">\n      <th></th>\n      <th>experience</th>\n      <th>test_score</th>\n      <th>interview</th>\n      <th>salary</th>\n    </tr>\n  </thead>\n  <tbody>\n    <tr>\n      <th>0</th>\n      <td>NaN</td>\n      <td>8.0</td>\n      <td>9</td>\n      <td>50000</td>\n    </tr>\n    <tr>\n      <th>1</th>\n      <td>NaN</td>\n      <td>8.0</td>\n      <td>6</td>\n      <td>45000</td>\n    </tr>\n    <tr>\n      <th>2</th>\n      <td>five</td>\n      <td>6.0</td>\n      <td>7</td>\n      <td>60000</td>\n    </tr>\n    <tr>\n      <th>3</th>\n      <td>two</td>\n      <td>10.0</td>\n      <td>10</td>\n      <td>65000</td>\n    </tr>\n    <tr>\n      <th>4</th>\n      <td>seven</td>\n      <td>9.0</td>\n      <td>6</td>\n      <td>70000</td>\n    </tr>\n    <tr>\n      <th>5</th>\n      <td>three</td>\n      <td>7.0</td>\n      <td>10</td>\n      <td>62000</td>\n    </tr>\n    <tr>\n      <th>6</th>\n      <td>ten</td>\n      <td>NaN</td>\n      <td>7</td>\n      <td>72000</td>\n    </tr>\n    <tr>\n      <th>7</th>\n      <td>eleven</td>\n      <td>7.0</td>\n      <td>8</td>\n      <td>80000</td>\n    </tr>\n  </tbody>\n</table>\n</div>"
     },
     "execution_count": 45,
     "metadata": {},
     "output_type": "execute_result"
    }
   ],
   "source": [
    "df = pd.read_csv(\"data\\hiring.csv\", sep=\",\")\n",
    "\n",
    "df"
   ],
   "metadata": {
    "collapsed": false
   }
  },
  {
   "cell_type": "code",
   "execution_count": 46,
   "outputs": [],
   "source": [
    "# si se encuentra vacio se reemplaza por 0\n",
    "df.experience = df.experience.fillna(\"zero\")"
   ],
   "metadata": {
    "collapsed": false
   }
  },
  {
   "cell_type": "code",
   "execution_count": 47,
   "outputs": [
    {
     "data": {
      "text/plain": "  experience  test_score  interview  salary\n0       zero         8.0          9   50000\n1       zero         8.0          6   45000\n2       five         6.0          7   60000\n3       two         10.0         10   65000\n4      seven         9.0          6   70000\n5      three         7.0         10   62000\n6        ten         NaN          7   72000\n7     eleven         7.0          8   80000",
      "text/html": "<div>\n<style scoped>\n    .dataframe tbody tr th:only-of-type {\n        vertical-align: middle;\n    }\n\n    .dataframe tbody tr th {\n        vertical-align: top;\n    }\n\n    .dataframe thead th {\n        text-align: right;\n    }\n</style>\n<table border=\"1\" class=\"dataframe\">\n  <thead>\n    <tr style=\"text-align: right;\">\n      <th></th>\n      <th>experience</th>\n      <th>test_score</th>\n      <th>interview</th>\n      <th>salary</th>\n    </tr>\n  </thead>\n  <tbody>\n    <tr>\n      <th>0</th>\n      <td>zero</td>\n      <td>8.0</td>\n      <td>9</td>\n      <td>50000</td>\n    </tr>\n    <tr>\n      <th>1</th>\n      <td>zero</td>\n      <td>8.0</td>\n      <td>6</td>\n      <td>45000</td>\n    </tr>\n    <tr>\n      <th>2</th>\n      <td>five</td>\n      <td>6.0</td>\n      <td>7</td>\n      <td>60000</td>\n    </tr>\n    <tr>\n      <th>3</th>\n      <td>two</td>\n      <td>10.0</td>\n      <td>10</td>\n      <td>65000</td>\n    </tr>\n    <tr>\n      <th>4</th>\n      <td>seven</td>\n      <td>9.0</td>\n      <td>6</td>\n      <td>70000</td>\n    </tr>\n    <tr>\n      <th>5</th>\n      <td>three</td>\n      <td>7.0</td>\n      <td>10</td>\n      <td>62000</td>\n    </tr>\n    <tr>\n      <th>6</th>\n      <td>ten</td>\n      <td>NaN</td>\n      <td>7</td>\n      <td>72000</td>\n    </tr>\n    <tr>\n      <th>7</th>\n      <td>eleven</td>\n      <td>7.0</td>\n      <td>8</td>\n      <td>80000</td>\n    </tr>\n  </tbody>\n</table>\n</div>"
     },
     "execution_count": 47,
     "metadata": {},
     "output_type": "execute_result"
    }
   ],
   "source": [
    "df"
   ],
   "metadata": {
    "collapsed": false
   }
  },
  {
   "cell_type": "code",
   "execution_count": 48,
   "outputs": [],
   "source": [
    "df.experience = df.experience.apply(w2n.word_to_num)"
   ],
   "metadata": {
    "collapsed": false
   }
  },
  {
   "cell_type": "code",
   "execution_count": 49,
   "outputs": [
    {
     "data": {
      "text/plain": "   experience  test_score  interview  salary\n0           0         8.0          9   50000\n1           0         8.0          6   45000\n2           5         6.0          7   60000\n3           2        10.0         10   65000\n4           7         9.0          6   70000\n5           3         7.0         10   62000\n6          10         NaN          7   72000\n7          11         7.0          8   80000",
      "text/html": "<div>\n<style scoped>\n    .dataframe tbody tr th:only-of-type {\n        vertical-align: middle;\n    }\n\n    .dataframe tbody tr th {\n        vertical-align: top;\n    }\n\n    .dataframe thead th {\n        text-align: right;\n    }\n</style>\n<table border=\"1\" class=\"dataframe\">\n  <thead>\n    <tr style=\"text-align: right;\">\n      <th></th>\n      <th>experience</th>\n      <th>test_score</th>\n      <th>interview</th>\n      <th>salary</th>\n    </tr>\n  </thead>\n  <tbody>\n    <tr>\n      <th>0</th>\n      <td>0</td>\n      <td>8.0</td>\n      <td>9</td>\n      <td>50000</td>\n    </tr>\n    <tr>\n      <th>1</th>\n      <td>0</td>\n      <td>8.0</td>\n      <td>6</td>\n      <td>45000</td>\n    </tr>\n    <tr>\n      <th>2</th>\n      <td>5</td>\n      <td>6.0</td>\n      <td>7</td>\n      <td>60000</td>\n    </tr>\n    <tr>\n      <th>3</th>\n      <td>2</td>\n      <td>10.0</td>\n      <td>10</td>\n      <td>65000</td>\n    </tr>\n    <tr>\n      <th>4</th>\n      <td>7</td>\n      <td>9.0</td>\n      <td>6</td>\n      <td>70000</td>\n    </tr>\n    <tr>\n      <th>5</th>\n      <td>3</td>\n      <td>7.0</td>\n      <td>10</td>\n      <td>62000</td>\n    </tr>\n    <tr>\n      <th>6</th>\n      <td>10</td>\n      <td>NaN</td>\n      <td>7</td>\n      <td>72000</td>\n    </tr>\n    <tr>\n      <th>7</th>\n      <td>11</td>\n      <td>7.0</td>\n      <td>8</td>\n      <td>80000</td>\n    </tr>\n  </tbody>\n</table>\n</div>"
     },
     "execution_count": 49,
     "metadata": {},
     "output_type": "execute_result"
    }
   ],
   "source": [
    "df"
   ],
   "metadata": {
    "collapsed": false
   }
  },
  {
   "cell_type": "code",
   "execution_count": 50,
   "outputs": [],
   "source": [
    "# para la nota del test vacia se reemplaza por la media\n",
    "median_test_score = df.test_score.median()\n",
    "df.test_score = df.test_score.fillna(median_test_score)"
   ],
   "metadata": {
    "collapsed": false
   }
  },
  {
   "cell_type": "code",
   "execution_count": 51,
   "outputs": [
    {
     "data": {
      "text/plain": "   experience  test_score  interview  salary\n0           0         8.0          9   50000\n1           0         8.0          6   45000\n2           5         6.0          7   60000\n3           2        10.0         10   65000\n4           7         9.0          6   70000\n5           3         7.0         10   62000\n6          10         8.0          7   72000\n7          11         7.0          8   80000",
      "text/html": "<div>\n<style scoped>\n    .dataframe tbody tr th:only-of-type {\n        vertical-align: middle;\n    }\n\n    .dataframe tbody tr th {\n        vertical-align: top;\n    }\n\n    .dataframe thead th {\n        text-align: right;\n    }\n</style>\n<table border=\"1\" class=\"dataframe\">\n  <thead>\n    <tr style=\"text-align: right;\">\n      <th></th>\n      <th>experience</th>\n      <th>test_score</th>\n      <th>interview</th>\n      <th>salary</th>\n    </tr>\n  </thead>\n  <tbody>\n    <tr>\n      <th>0</th>\n      <td>0</td>\n      <td>8.0</td>\n      <td>9</td>\n      <td>50000</td>\n    </tr>\n    <tr>\n      <th>1</th>\n      <td>0</td>\n      <td>8.0</td>\n      <td>6</td>\n      <td>45000</td>\n    </tr>\n    <tr>\n      <th>2</th>\n      <td>5</td>\n      <td>6.0</td>\n      <td>7</td>\n      <td>60000</td>\n    </tr>\n    <tr>\n      <th>3</th>\n      <td>2</td>\n      <td>10.0</td>\n      <td>10</td>\n      <td>65000</td>\n    </tr>\n    <tr>\n      <th>4</th>\n      <td>7</td>\n      <td>9.0</td>\n      <td>6</td>\n      <td>70000</td>\n    </tr>\n    <tr>\n      <th>5</th>\n      <td>3</td>\n      <td>7.0</td>\n      <td>10</td>\n      <td>62000</td>\n    </tr>\n    <tr>\n      <th>6</th>\n      <td>10</td>\n      <td>8.0</td>\n      <td>7</td>\n      <td>72000</td>\n    </tr>\n    <tr>\n      <th>7</th>\n      <td>11</td>\n      <td>7.0</td>\n      <td>8</td>\n      <td>80000</td>\n    </tr>\n  </tbody>\n</table>\n</div>"
     },
     "execution_count": 51,
     "metadata": {},
     "output_type": "execute_result"
    }
   ],
   "source": [
    "df"
   ],
   "metadata": {
    "collapsed": false
   }
  },
  {
   "cell_type": "code",
   "execution_count": 53,
   "outputs": [
    {
     "data": {
      "text/plain": "LinearRegression()"
     },
     "execution_count": 53,
     "metadata": {},
     "output_type": "execute_result"
    }
   ],
   "source": [
    "# vamos a crear un modelo de regresion lineal\n",
    "reg = linear_model.LinearRegression()\n",
    "\n",
    "# entrenamos el modelo\n",
    "reg.fit(df[['experience', 'test_score', 'interview']], df['salary'])"
   ],
   "metadata": {
    "collapsed": false
   }
  },
  {
   "cell_type": "code",
   "execution_count": 55,
   "outputs": [
    {
     "name": "stdout",
     "output_type": "stream",
     "text": [
      "[53205.96797671]\n"
     ]
    },
    {
     "name": "stderr",
     "output_type": "stream",
     "text": [
      "C:\\Users\\sergi\\anaconda3\\lib\\site-packages\\sklearn\\base.py:450: UserWarning: X does not have valid feature names, but LinearRegression was fitted with feature names\n",
      "  warnings.warn(\n"
     ]
    }
   ],
   "source": [
    "# vamos a predecir el salario de un candidato con 2 años de experiencia, 9 en el test y 6 en la entrevista\n",
    "print(reg.predict([[2, 9, 6]]))"
   ],
   "metadata": {
    "collapsed": false
   }
  },
  {
   "cell_type": "code",
   "execution_count": 56,
   "outputs": [
    {
     "name": "stdout",
     "output_type": "stream",
     "text": [
      "[92002.18340611]\n"
     ]
    },
    {
     "name": "stderr",
     "output_type": "stream",
     "text": [
      "C:\\Users\\sergi\\anaconda3\\lib\\site-packages\\sklearn\\base.py:450: UserWarning: X does not have valid feature names, but LinearRegression was fitted with feature names\n",
      "  warnings.warn(\n"
     ]
    }
   ],
   "source": [
    "# vamos a predecir el salario de un candidato con 12 años de experiencia, 10 en el test y 10 en la entrevista\n",
    "print(reg.predict([[12, 10, 10]]))"
   ],
   "metadata": {
    "collapsed": false
   }
  }
 ],
 "metadata": {
  "kernelspec": {
   "display_name": "Python 3",
   "language": "python",
   "name": "python3"
  },
  "language_info": {
   "codemirror_mode": {
    "name": "ipython",
    "version": 2
   },
   "file_extension": ".py",
   "mimetype": "text/x-python",
   "name": "python",
   "nbconvert_exporter": "python",
   "pygments_lexer": "ipython2",
   "version": "2.7.6"
  }
 },
 "nbformat": 4,
 "nbformat_minor": 0
}
